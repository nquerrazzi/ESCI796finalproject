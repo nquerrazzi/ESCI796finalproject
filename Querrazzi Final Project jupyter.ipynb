{
 "cells": [
  {
   "cell_type": "markdown",
   "id": "79e27249",
   "metadata": {},
   "source": [
    "Title: Analyzing Temperature and Snowfall Change in the White Mountains\n",
    "Author: Nick Querrazzi\n",
    "3/28/2023\n",
    "License: MIT -- https://opensource.org/licenses/MIT"
   ]
  },
  {
   "cell_type": "markdown",
   "id": "e5a0208d",
   "metadata": {},
   "source": [
    "Introduction:\n",
    "    With climate change's impacts growing more prevalent each year, we must learn to use historical changes in our environment to prepare us for what the future may look like. This script analyzes any changes in both the temperature and the snowfall on Mt. Washington in the White Mountains of New Hampshire. The script will also look for any correlation between possible rising temperatures and a change in snowfall. The White Mountains are a popular winter destination for winter sport enthusiasts. If winters are becoming warmer and getting less snow, will it bring less tourists and therefore less money into the area? We must understand the trends in temperature and snowfall in order to protect our winters, if necessary. Not only does protecting our winters protect the economy and community in the White Mountains, but it also preserves the natural environment."
   ]
  },
  {
   "cell_type": "markdown",
   "id": "3448070c",
   "metadata": {},
   "source": [
    "Hypothesis:\n",
    "    It is hypothesized that there is an increasing trend in temperature and that it is leading to a decrease in snowfall in the White Mountains of New Hampshire throughout the winter (Dec 21-Mar 20)."
   ]
  },
  {
   "cell_type": "markdown",
   "id": "f7f3748e",
   "metadata": {},
   "source": [
    "Study Site:\n",
    "    The data being analyzed was recorded on Mt. Washington in New Hampshire. The measurements took place at an elevation of 6272' and started in 1948 until 2023. The elevation is a few thousand feet higher in elevation than most the surrounding ski mountains, although this data provided the most thorough and longest dataset. While there may be differences in amount of snowfall and temperature, the trends this analysis provides will be applicable to the surrounding White Mountains. "
   ]
  },
  {
   "cell_type": "markdown",
   "id": "b9cb1c05",
   "metadata": {},
   "source": [
    "Data Set:\n",
    "    The dataset obtained through NOAA (gauge: USW00014755) form Mt.Washington provides daily snowfall, minimum temperature, and maximum temperature each day from 1948 until 2023.\n",
    "    Link to data: https://www.ncei.noaa.gov/access/search/data-search/normals-hourly?bbox=44.370,-71.403,44.170,-71.203"
   ]
  },
  {
   "cell_type": "code",
   "execution_count": null,
   "id": "d4ea72b9",
   "metadata": {
    "scrolled": false
   },
   "outputs": [],
   "source": [
    "#Load Data:\n",
    "import pandas as pd\n",
    "from matplotlib import pyplot as plt\n",
    "import numpy as np\n",
    "import os\n",
    "from scipy import stats\n",
    "\n",
    "#%% Specify Parameters\n",
    "\n",
    "fig_title1 = 'Mt. Washington, NH Snow Fall'\n",
    "fig_title2 = 'Mt. Washington, NH Average Temperature'\n",
    "\n",
    "#Name of input file with extension\n",
    "infile_names = ['mt washington.csv']\n",
    "#Data is in US Customary Units\n",
    "\n",
    "#Create start and end dates\n",
    "start_date = '1948-01-01'\n",
    "end_date = '2022-12-31'\n",
    "\n",
    "#%% Load Data\n",
    "\n",
    "#Set the working directory\n",
    "os.chdir('C:\\\\Users\\\\nquer\\\\OneDrive\\\\Desktop\\\\ESCI Final Project')\n",
    "\n",
    "#Load data and set index\n",
    "data = pd.read_csv(infile_names[0], comment='#',\n",
    "                   parse_dates=['DATE'], index_col=['DATE'])\n",
    "\n",
    "#Drop unnecessary columns\n",
    "columns=['SNOW','TMAX','TMIN']\n",
    "data = data[columns]\n",
    "\n",
    "#Cutting data to start and end dates\n",
    "data=data[start_date:end_date]\n",
    "\n",
    "#Drop NaN values from the dataset before analysis\n",
    "data = data.dropna()\n",
    "\n",
    "#%% Data Analysis\n",
    "\n",
    "#Creating an average temperature column using min and max temperatures from each day\n",
    "data['TAVG']=(data.TMIN+data.TMAX)/2\n",
    "\n",
    "#Creating a new data set for just the winter season\n",
    "#Create new columns in data for winter season and convert all nonwinter days to Nan\n",
    "\n",
    "#%% Plot snow fall data\n",
    "# Create plot to display snowfall data\n",
    "fig, ax = plt.subplots()\n",
    "\n",
    "# Plot snowfall data\n",
    "ax.plot(data.SNOW, label='Snow Fall')  # x = dataframe index (date), y = snowfall in inches\n",
    "                                     \n",
    "# Add y-axis label    \n",
    "ax.set_ylabel('Snow Fall (in)')   \n",
    "\n",
    "# Add plot title\n",
    "ax.set_title(fig_title1)\n",
    "\n",
    "# Make x-tick labels diagonal to avoid overlap\n",
    "fig.autofmt_xdate()  \n",
    "\n",
    "#Add a legend to the plot\n",
    "plt.legend()\n",
    "\n",
    "#%% Plot temperature data\n",
    "# Create plot to display temperature data\n",
    "fig, ax2 = plt.subplots()\n",
    "\n",
    "# Plot average daily temperature data\n",
    "ax2.plot(data.TAVG, label='Average Daily Temperature') \n",
    "\n",
    "# Add y-axis label    \n",
    "ax2.set_ylabel('Temperature (F)')   \n",
    "\n",
    "# Add plot title\n",
    "ax2.set_title(fig_title2)\n",
    "\n",
    "# Optional command to make x-tick labels diagonal to avoid overlap\n",
    "fig.autofmt_xdate()\n",
    "\n",
    "#Add a legend to the plot\n",
    "ax2.legend()\n",
    "\n",
    "# Show the plot\n",
    "plt.show()"
   ]
  },
  {
   "cell_type": "markdown",
   "id": "76d3a60d",
   "metadata": {},
   "source": [
    "Future Code:\n",
    "#Cut data to just winter months\n",
    "#Plot winter month data for both temperature and snowfall\n",
    "#Average temperature and calculate total snowfall for each winter\n",
    "#Plot winter average temp and total snowfall for each year with line of best fit for both (1 data point per year to make the graphs easier to read)\n",
    "#Calculate statistics on line of best fits to determine p-value\n"
   ]
  },
  {
   "cell_type": "code",
   "execution_count": null,
   "id": "614ae6e6",
   "metadata": {},
   "outputs": [],
   "source": []
  },
  {
   "cell_type": "markdown",
   "id": "cb655f93",
   "metadata": {},
   "source": [
    "Conclusion\n",
    "    Discuss line of best fit slope (should be positive for temp and negative for snowfall if hypothesis is correct)\n",
    "    Summarize any significance in average temperature change (p-value)\n",
    "    Summarize any significance in total snowfall change (p-value)\n",
    "    Discuss unexpected findings\n",
    "    Possible error/ways to reduce error\n",
    "    Implications of my findings\n",
    "    Was my hypothesis correct?\n",
    "    Conclusions that can be drawn\n",
    "    "
   ]
  },
  {
   "cell_type": "code",
   "execution_count": null,
   "id": "94aaf274",
   "metadata": {},
   "outputs": [],
   "source": []
  }
 ],
 "metadata": {
  "kernelspec": {
   "display_name": "Python 3 (ipykernel)",
   "language": "python",
   "name": "python3"
  },
  "language_info": {
   "codemirror_mode": {
    "name": "ipython",
    "version": 3
   },
   "file_extension": ".py",
   "mimetype": "text/x-python",
   "name": "python",
   "nbconvert_exporter": "python",
   "pygments_lexer": "ipython3",
   "version": "3.10.9"
  }
 },
 "nbformat": 4,
 "nbformat_minor": 5
}
